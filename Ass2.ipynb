{
 "cells": [
  {
   "cell_type": "code",
   "execution_count": 194,
   "metadata": {
    "collapsed": true
   },
   "outputs": [],
   "source": [
    "import csv\n",
    "import random\n",
    "import numpy as np\n",
    "from sklearn import svm"
   ]
  },
  {
   "cell_type": "code",
   "execution_count": 171,
   "metadata": {
    "collapsed": false
   },
   "outputs": [],
   "source": [
    "#csv_file = open(\"filtered_h1b.csv\")\n",
    "csv_file = open(\"subset_h1b.csv\")\n",
    "#list of lists, each list is the list of the shit\n",
    "lines = list(csv.reader(csv_file,delimiter=','))\n",
    "train = lines[:25000]\n",
    "valid = lines[25000:37500]\n",
    "test = lines[37500:]\n",
    "validtest = lines[25000:]"
   ]
  },
  {
   "cell_type": "code",
   "execution_count": 224,
   "metadata": {
    "collapsed": false
   },
   "outputs": [],
   "source": [
    "#baseline trivial predictor using Salary\n",
    "def trivial_features(datum):\n",
    "    feat = [1]\n",
    "    #Add Salary\n",
    "    feat.append(float(datum[5]))\n",
    "    return feat"
   ]
  },
  {
   "cell_type": "code",
   "execution_count": 228,
   "metadata": {
    "collapsed": false
   },
   "outputs": [],
   "source": [
    "#predictor using full time status, salary, year of application, location (w/ state)\n",
    "def features(datum):\n",
    "    feat = [1]\n",
    "    #full time status\n",
    "    if datum[4] == 'Y':\n",
    "        feat.append(1)\n",
    "    else:\n",
    "        feat.append(0)\n",
    "    \n",
    "    #salary\n",
    "    feat.append(float(datum[5]))\n",
    "    \n",
    "    #one-hot year of application (2011-2016)\n",
    "    year = [0]*(2016-2011+1)\n",
    "    year[2016 - int(datum[6])] = 1\n",
    "    feat = feat + year\n",
    "\n",
    "    #location\n",
    "    states = states_one_hot(datum)\n",
    "    feat = feat + states\n",
    "    \n",
    "    return feat"
   ]
  },
  {
   "cell_type": "code",
   "execution_count": 186,
   "metadata": {
    "collapsed": true
   },
   "outputs": [],
   "source": [
    "def get_state_encoding(x):\n",
    "    return {\n",
    "        'ALABAMA': 0,\n",
    "        'ALASKA': 1,\n",
    "        'ARIZONA': 2,\n",
    "        'ARKANSAS': 3,\n",
    "        'CALIFORNIA': 4,\n",
    "        'COLORADO': 5,\n",
    "        'CONNECTICUT': 6,\n",
    "        'DELAWARE': 7,\n",
    "        'FLORIDA': 8,\n",
    "        'GEORGIA': 9,\n",
    "        'HAWAII': 10,\n",
    "        'IDAHO': 11,\n",
    "        'ILLINOIS': 12,\n",
    "        'INDIANA': 13,\n",
    "        'IOWA': 14,\n",
    "        'KANSAS': 15,\n",
    "        'KENTUCKY': 16,\n",
    "        'LOUISIANA': 17,\n",
    "        'MAINE': 18,\n",
    "        'MARYLAND': 19,\n",
    "        'MASSACHUSETTS': 20,\n",
    "        'MICHIGAN': 21,\n",
    "        'MINNESOTA': 22,\n",
    "        'MISSISSIPPI': 23,\n",
    "        'MISSOURI': 24,\n",
    "        'MONTANA': 25,\n",
    "        'NEBRASKA': 26,\n",
    "        'NEVADA': 27,\n",
    "        'NEW HAMPSHIRE': 28,\n",
    "        'NEW JERSEY': 29,\n",
    "        'NEW MEXICO': 30,\n",
    "        'NEW YORK': 31,\n",
    "        'NORTH CAROLINA': 32,\n",
    "        'NORTH DAKOTA': 33,\n",
    "        'OHIO': 34,\n",
    "        'OKLAHOMA': 35,\n",
    "        'OREGON': 36,\n",
    "        'PENNSYLVANIA': 37,\n",
    "        'RHODE ISLAND': 38,\n",
    "        'SOUTH CAROLINA': 39,\n",
    "        'SOUTH DAKOTA': 40,\n",
    "        'TENNESSEE': 41,\n",
    "        'TEXAS': 42,\n",
    "        'UTAH': 43,\n",
    "        'VERMONT': 44,\n",
    "        'VIRGINIA': 45,\n",
    "        'WASHINGTON': 46,\n",
    "        'WEST VIRGINIA': 47,\n",
    "        'WISCONSIN': 48,\n",
    "        'WYOMING': 49,\n",
    "        'DISTRICT OF COLUMBIA': 50,\n",
    "        'PUERTO RICO': 51,\n",
    "        'NA': 52\n",
    "    }[x]\n",
    " \n",
    "def states_one_hot(review):\n",
    "    states = [0] * 53;\n",
    "    location = [x.strip() for x in review[7].split(',')]\n",
    "    state = location[1]\n",
    "    states[get_state_encoding(state)] += 1\n",
    "    return states"
   ]
  },
  {
   "cell_type": "code",
   "execution_count": 229,
   "metadata": {
    "collapsed": true
   },
   "outputs": [],
   "source": [
    "#predictor\n",
    "def predict(X,Y):\n",
    "    theta,residuals,rank,s = np.linalg.lstsq(X,Y)\n",
    "    #print('theta: ',theta)\n",
    "    #print('normalized residuals', residuals/len(X))\n",
    "    return theta"
   ]
  },
  {
   "cell_type": "code",
   "execution_count": 230,
   "metadata": {
    "collapsed": false
   },
   "outputs": [],
   "source": [
    "def mse(theta,X,y):\n",
    "    # X is the list of list of features\n",
    "    # y is the actual values of case statuses\n",
    "    sum = 0\n",
    "    for data,status in zip(X[:],y[:]):\n",
    "        #print('d ',data)\n",
    "        #print('t ',theta)\n",
    "        \n",
    "        prediction = np.dot(theta, data)\n",
    "        sum += (status-prediction)**2\n",
    "    mse = sum/len(X)\n",
    "    print(mse)"
   ]
  },
  {
   "cell_type": "code",
   "execution_count": 231,
   "metadata": {
    "collapsed": false
   },
   "outputs": [],
   "source": [
    "Y_train = [1 if d[0] == 'CERTIFIED' else 0 for d in train]\n",
    "Y_valid = [1 if d[0] == 'CERTIFIED' else 0 for d in valid]\n",
    "Y_test = [1 if d[0] == 'CERTIFIED' else 0 for d in validtest]\n",
    "\n",
    "X_trivial_train = [trivial_features(d) for d in train]\n",
    "X_trivial_test = [trivial_features(d) for d in validtest]\n",
    "\n",
    "X_train = [features(d) for d in train]\n",
    "X_valid = [features(d) for d in valid]\n",
    "X_test = [features(d) for d in validtest]"
   ]
  },
  {
   "cell_type": "code",
   "execution_count": 239,
   "metadata": {
    "collapsed": false
   },
   "outputs": [
    {
     "name": "stdout",
     "output_type": "stream",
     "text": [
      "0.110008844017\n"
     ]
    }
   ],
   "source": [
    "#MSE for Trivial\n",
    "theta = predict(X_trivial_train,Y_train)\n",
    "mse(theta,X_trivial_test,Y_test)"
   ]
  },
  {
   "cell_type": "code",
   "execution_count": 240,
   "metadata": {
    "collapsed": false
   },
   "outputs": [
    {
     "name": "stdout",
     "output_type": "stream",
     "text": [
      "0.110457114297\n"
     ]
    }
   ],
   "source": [
    "#normal\n",
    "theta = predict(X_train,Y_train)\n",
    "mse(theta,X_valid,Y_valid)"
   ]
  },
  {
   "cell_type": "code",
   "execution_count": 258,
   "metadata": {
    "collapsed": false
   },
   "outputs": [],
   "source": [
    "#Linear Predictor\n",
    "prediction = np.dot(X_valid,theta)\n",
    "for p in range(0,len(prediction)):\n",
    "    prediction[p] = int(round(prediction[p]))\n",
    "validAcc = [(x == y) for (x,y) in zip(prediction,Y_valid)]\n",
    "validAcc = sum(validAcc)*1.0/len(validAcc)"
   ]
  },
  {
   "cell_type": "code",
   "execution_count": 259,
   "metadata": {
    "collapsed": false
   },
   "outputs": [
    {
     "data": {
      "text/plain": [
       "0.87295999999999996"
      ]
     },
     "execution_count": 259,
     "metadata": {},
     "output_type": "execute_result"
    }
   ],
   "source": [
    "validAcc"
   ]
  },
  {
   "cell_type": "code",
   "execution_count": 217,
   "metadata": {
    "collapsed": false
   },
   "outputs": [],
   "source": [
    "#SVM\n",
    "X_train = [features(d) for d in train]\n",
    "Y_train = [1 if d[0] == 'CERTIFIED' else 0 for d in train]\n",
    "X_valid = [features(d) for d in valid]\n",
    "Y_valid = [1 if d[0] == 'CERTIFIED' else 0 for d in valid]\n",
    "\n",
    "clf = svm.LinearSVC(C = 1)\n",
    "clf.fit(X_train,Y_train)\n",
    "prediction = clf.predict(X_valid)\n",
    "validAcc = [(x == y) for (x,y) in zip(prediction,Y_valid)]\n",
    "validAcc = sum(validAcc)*1.0/len(validAcc)"
   ]
  },
  {
   "cell_type": "code",
   "execution_count": 218,
   "metadata": {
    "collapsed": false
   },
   "outputs": [
    {
     "data": {
      "text/plain": [
       "0.87239999999999995"
      ]
     },
     "execution_count": 218,
     "metadata": {},
     "output_type": "execute_result"
    }
   ],
   "source": [
    "validAcc"
   ]
  },
  {
   "cell_type": "code",
   "execution_count": 219,
   "metadata": {
    "collapsed": false
   },
   "outputs": [],
   "source": [
    "# X_train = [features(d) for d in train]\n",
    "# Y_train = [1 if d[0] == 'CERTIFIED' else 0 for d in train]\n",
    "# X_valid = [features(d) for d in valid]\n",
    "# Y_valid = [1 if d[0] == 'CERTIFIED' else 0 for d in valid]\n",
    "\n",
    "# bestAcc = 0\n",
    "# bestCLF = None\n",
    "# for c in 0.01, 0.1, 1, 10, 100:\n",
    "#     clf = svm.LinearSVC(C = c)\n",
    "#     clf.fit(X_train, Y_train)\n",
    "#     predictions = [int(x) for x in clf.predict(X_valid)]\n",
    "#     acc = [(x == y) for (x,y) in zip(predictions, Y_valid)]\n",
    "#     acc = sum(acc) * 1.0 / len(acc)\n",
    "#     if acc > bestAcc:\n",
    "#         bestAcc = acc\n",
    "#         bestCLF = clf\n",
    "#     print(\"C= \" + str(c) + \": validation acc = \" + str(acc))"
   ]
  },
  {
   "cell_type": "code",
   "execution_count": null,
   "metadata": {
    "collapsed": false
   },
   "outputs": [],
   "source": []
  },
  {
   "cell_type": "code",
   "execution_count": null,
   "metadata": {
    "collapsed": true
   },
   "outputs": [],
   "source": []
  }
 ],
 "metadata": {
  "anaconda-cloud": {},
  "kernelspec": {
   "display_name": "Python [default]",
   "language": "python",
   "name": "python3"
  },
  "language_info": {
   "codemirror_mode": {
    "name": "ipython",
    "version": 3
   },
   "file_extension": ".py",
   "mimetype": "text/x-python",
   "name": "python",
   "nbconvert_exporter": "python",
   "pygments_lexer": "ipython3",
   "version": "3.5.2"
  }
 },
 "nbformat": 4,
 "nbformat_minor": 1
}
